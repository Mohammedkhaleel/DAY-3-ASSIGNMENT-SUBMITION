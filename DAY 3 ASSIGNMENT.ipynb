{
 "cells": [
  {
   "cell_type": "code",
   "execution_count": 3,
   "metadata": {},
   "outputs": [
    {
     "name": "stdout",
     "output_type": "stream",
     "text": [
      "[ 2  5  8 11 14 17 20 23 26 29 32 35 38 41 44 47 50]\n",
      "[ 2  5  8 11 14 17 20 23 26 29 32 35 38 41 44 47 50]\n"
     ]
    }
   ],
   "source": [
    "# Assignment No : 3(Que1)\n",
    "\n",
    "# Questions 1:\n",
    "# Create a numpy array starting from 2 till 50 with a stepsize of 3.\n",
    "\n",
    "import numpy as np  # importing numpy pkg.\n",
    "\n",
    "my_array = np.arange(2, 51, 3)  # numpy.arange(start, stop, step)\n",
    "\n",
    "print(my_array) # printing of an array created by arange function\n",
    "\n",
    "#or\n",
    "\n",
    "\n",
    "print(np.arange(2, 51, 3))\n"
   ]
  },
  {
   "cell_type": "code",
   "execution_count": 4,
   "metadata": {},
   "outputs": [
    {
     "name": "stdout",
     "output_type": "stream",
     "text": [
      "1\n",
      "5\n",
      "8\n",
      "9\n",
      "6\n",
      "List one : [1, 5, 8, 9, 6]\n",
      "2\n",
      "4\n",
      "8\n",
      "7\n",
      "6\n",
      "List Two [2, 4, 8, 7, 6]\n",
      "List to array convert 1 : [1 5 8 9 6]\n",
      "List to array convert 2 : [2 4 8 7 6]\n",
      "concatenation of arrays are : [1 5 8 9 6 2 4 8 7 6]\n",
      "Sorted array : [1 2 4 5 6 6 7 8 8 9]\n"
     ]
    }
   ],
   "source": [
    "# Assignment No: 3(Que2)\n",
    "\n",
    "# Questions 2:\n",
    "# Accept two lists of 5 elements each from the user.\n",
    "# Convert them to numpy arrays. Concatenate these arrays and print it. Also sort these arrays and print it.\n",
    "\n",
    "import numpy as np\n",
    "\n",
    "my_list_one = []\n",
    "my_list_two = []\n",
    "\n",
    "for i in range(5):\n",
    "    my_input = int(input())\n",
    "    my_list_one.append(my_input)\n",
    "\n",
    "print(\"List one :\",my_list_one)\n",
    "\n",
    "for i in range(5):\n",
    "    my_input = int(input())\n",
    "    my_list_two.append(my_input)\n",
    "\n",
    "print(\"List Two\", my_list_two)\n",
    "\n",
    "# conversion of List to Array\n",
    "\n",
    "my_array_one = np.array(my_list_one)\n",
    "my_array_two = np.array(my_list_two)\n",
    "print(\"List to array convert 1 :\", my_array_one)\n",
    "print(\"List to array convert 2 :\", my_array_two)\n",
    "\n",
    "# concatenation of arrays\n",
    "\n",
    "array_concat = np.concatenate((my_array_one, my_array_two))\n",
    "\n",
    "print(\"concatenation of arrays are :\", array_concat)\n",
    "\n",
    "# Sorting of array\n",
    "\n",
    "print(\"Sorted array :\", np.sort(array_concat))"
   ]
  },
  {
   "cell_type": "code",
   "execution_count": 5,
   "metadata": {},
   "outputs": [
    {
     "name": "stdout",
     "output_type": "stream",
     "text": [
      "calculating Dimensions of a nd array is : 2\n",
      "Size of an array is : 12\n"
     ]
    }
   ],
   "source": [
    "# Assignment No : 3(Que 3)\n",
    "\n",
    "# Questions 3:\n",
    "# Write a code snippet to find the dimensions of a ndarray and its size.\n",
    "\n",
    "import numpy as np\n",
    "\n",
    "my_array_one = np.array([[1, 4, 7], [3, 6, 9], [1, 4, 7], [3, 6, 9]])\n",
    "print(\"calculating Dimensions of a nd array is :\", my_array_one.ndim)\n",
    "\n",
    "print(\"Size of an array is :\", my_array_one.size)"
   ]
  },
  {
   "cell_type": "code",
   "execution_count": 6,
   "metadata": {},
   "outputs": [
    {
     "name": "stdout",
     "output_type": "stream",
     "text": [
      "10\n",
      "Test 1D array (shape) : (10,)\n",
      "Test` 2D array for row is : (1, 10)\n",
      "Test` 2D array for column is : (10, 1)\n"
     ]
    }
   ],
   "source": [
    "# Assignments No: 3(Que 4)\n",
    "\n",
    "# Questions 4:\n",
    "# How to convert a 1D array into a 2D array? Demonstrate with the help of a code snippet\n",
    "# Hint: np.newaxis, np.expand_dims\n",
    "\n",
    "import numpy as np\n",
    "\n",
    "arr = np.arange(int(input()))\n",
    "print(\"Test 1D array (shape) :\", arr.shape)\n",
    "\n",
    "two_d_array_row = arr[np.newaxis]\n",
    "print(\"Test` 2D array for row is :\", two_d_array_row.shape)\n",
    "\n",
    "two_d_array_col = arr[:, np.newaxis]\n",
    "print(\"Test` 2D array for column is :\", two_d_array_col.shape)"
   ]
  },
  {
   "cell_type": "code",
   "execution_count": 7,
   "metadata": {},
   "outputs": [
    {
     "name": "stdout",
     "output_type": "stream",
     "text": [
      " horizontally stacked : [   1   16   25   64 6241   36    9   25   49   25   81   36   16   25\n",
      "   16   25   64   36   81   49   16   25   36]\n",
      "vertically stacked :  [   1   16   25   64 6241   36    9   25   49   25   81   36   16   25\n",
      "   16   25   64   36   81   49   16   25   36]\n"
     ]
    }
   ],
   "source": [
    "# Assignment NO : 3(Que 5)\n",
    "\n",
    "# Questions 5:\n",
    "# Consider two square numpy arrays. Stack them vertically and horizontally.\n",
    "# Hint: Use vstack(), hstack()\n",
    "\n",
    "import numpy as np\n",
    "\n",
    "my_array_one = np.square([1, 4, 5, 8, 79, 6, 3, 5, 7, 5, 9, 6, 4, 5])  # square of numpy array\n",
    "my_array_two = np.square([4, 5, 8, 6, 9, 7, 4, 5, 6])  # square of numpy array\n",
    "\n",
    "\n",
    "print(\" horizontally stacked :\", np.hstack((my_array_one, my_array_two)))\n",
    "\n",
    "print(\"vertically stacked : \", np.hstack((my_array_one, my_array_two)))"
   ]
  },
  {
   "cell_type": "code",
   "execution_count": 8,
   "metadata": {},
   "outputs": [
    {
     "name": "stdout",
     "output_type": "stream",
     "text": [
      "[[4 3]\n",
      " [5 2]\n",
      " [6 1]\n",
      " [7 1]\n",
      " [8 1]\n",
      " [9 1]]\n"
     ]
    }
   ],
   "source": [
    "# Assignment No: 3(Que 6)\n",
    "\n",
    "# Questions 6:\n",
    "# How to get unique items and counts of unique items?\n",
    "\n",
    "\n",
    "import numpy as np\n",
    "\n",
    "arr = np.array([4, 7, 8, 9, 5, 6, 5, 4, 4])\n",
    "\n",
    "unique, counts = np.unique(arr, return_counts=True)\n",
    "arr = np.asarray((unique, counts)).T\n",
    "print(arr)"
   ]
  },
  {
   "cell_type": "code",
   "execution_count": null,
   "metadata": {},
   "outputs": [],
   "source": []
  }
 ],
 "metadata": {
  "kernelspec": {
   "display_name": "Python 3",
   "language": "python",
   "name": "python3"
  },
  "language_info": {
   "codemirror_mode": {
    "name": "ipython",
    "version": 3
   },
   "file_extension": ".py",
   "mimetype": "text/x-python",
   "name": "python",
   "nbconvert_exporter": "python",
   "pygments_lexer": "ipython3",
   "version": "3.8.3"
  }
 },
 "nbformat": 4,
 "nbformat_minor": 4
}
